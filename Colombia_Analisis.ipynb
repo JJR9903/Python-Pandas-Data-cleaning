{
 "cells": [
  {
   "cell_type": "markdown",
   "metadata": {},
   "source": [
    "# Colombia Análisis"
   ]
  },
  {
   "cell_type": "code",
   "execution_count": 12,
   "metadata": {},
   "outputs": [],
   "source": [
    "#!pip install os numpy pandas\n",
    "#!pip install openpyxl\n",
    "import os\n",
    "import numpy as np\n",
    "import pandas as pd\n",
    "from datetime import datetime, date, timedelta\n",
    "from dateutil.relativedelta import relativedelta"
   ]
  },
  {
   "cell_type": "markdown",
   "metadata": {},
   "source": [
    "Se establece el working directory, los paths de otras carpetas y la fecha de análisis"
   ]
  },
  {
   "cell_type": "code",
   "execution_count": 13,
   "metadata": {},
   "outputs": [],
   "source": [
    "os.chdir(\"/Users/JuanJose/Library/CloudStorage/OneDrive-UniversidaddelosAndes/Econometria/J&J/100652_J_J/Colombia/Stata\")\n",
    "Path_Input_xlsx = \"DataFiles/Input/XLS/\"\n",
    "Path_working = \"DataFiles/Working/\"\n",
    "Path_out_xlsx = \"DataFiles/Output/XLS/\"\n",
    "#_date=datetime.datetime(2021, 12,1)\n",
    "_Date=datetime(2021,12,1)+relativedelta(months=1)-timedelta(days=1)\n",
    "#_Date=_Date.strftime(\"%d/%m/%Y\")\n",
    "_date=date.today()\n",
    "_date=_date.strftime(\"%d/%m/%Y\")"
   ]
  },
  {
   "cell_type": "code",
   "execution_count": 14,
   "metadata": {},
   "outputs": [],
   "source": [
    "#funcion para ordenar variables\n",
    "def reorder_columns(dataframe, col_names, position):\n",
    "    \"\"\"Reorder a dataframe's column.\n",
    "    Args:\n",
    "        dataframe (pd.DataFrame): dataframe to use\n",
    "        col_name (string list): columns names to move\n",
    "        position (0-indexed position): where to relocate column to\n",
    "    Returns:\n",
    "        pd.DataFrame: re-assigned dataframe\n",
    "    \"\"\"\n",
    "    Col_names=list()\n",
    "    Col_names.extend(col_names)\n",
    "    col_names=[]\n",
    "    col_names.extend(Col_names)\n",
    "    n=len(col_names)\n",
    "    \n",
    "    for i in range(n-1,-1,-1):\n",
    "        col_name = col_names[i]\n",
    "        temp_col = dataframe[col_name]\n",
    "        dataframe = dataframe.drop(columns=[col_name])\n",
    "        dataframe.insert(loc=position, column=col_name, value=temp_col)\n",
    "\n",
    "    return dataframe"
   ]
  },
  {
   "cell_type": "markdown",
   "metadata": {},
   "source": [
    "## Importar la base de datos"
   ]
  },
  {
   "cell_type": "code",
   "execution_count": 15,
   "metadata": {},
   "outputs": [
    {
     "data": {
      "text/plain": [
       "True"
      ]
     },
     "execution_count": 15,
     "metadata": {},
     "output_type": "execute_result"
    }
   ],
   "source": [
    "Colombia = pd.read_csv(Path_working+'Colombia_preliminar.csv',low_memory=False)\n",
    "variablesColombia= list(Colombia.columns)\n",
    "Colombia=Colombia.drop(columns='Unnamed: 0')\n",
    "Colombia['id'].unique().size==len(Colombia) # cada obs tiene un id y es un procedimiento (paciente, FechaCirugia, Medico)"
   ]
  },
  {
   "cell_type": "markdown",
   "metadata": {},
   "source": [
    "Se mantienen las variables importantes para el reshape"
   ]
  },
  {
   "cell_type": "code",
   "execution_count": 16,
   "metadata": {},
   "outputs": [],
   "source": [
    "FechaControles=[control for control in variablesColombia if 'date_C' in control]\n",
    "ids=['id','FechaCirugia']\n",
    "varsToKeep=ids+FechaControles\n",
    "Colombia_long=Colombia[varsToKeep]"
   ]
  },
  {
   "cell_type": "markdown",
   "metadata": {},
   "source": [
    "Se hace un reshape long de la base de datos para las fechas de los controles"
   ]
  },
  {
   "cell_type": "code",
   "execution_count": 17,
   "metadata": {},
   "outputs": [],
   "source": [
    "Colombia_long=Colombia_long.melt(id_vars=ids,value_vars=FechaControles,var_name='Control',value_name='FechaControl')\n",
    "Colombia_long=Colombia_long[Colombia_long['FechaControl'].notna()]#se elimnan los valores Nan\n",
    "Colombia_long=Colombia_long.sort_values(by=['id','Control','FechaControl'])#se ordena la base de datos"
   ]
  },
  {
   "cell_type": "markdown",
   "metadata": {},
   "source": [
    "se convierten a fechas las variables de la fecha de la cirugia y la fecha del control, para luego crear la variable de los días transcurridos desde la cirugía hasta el control ('dias')"
   ]
  },
  {
   "cell_type": "code",
   "execution_count": 18,
   "metadata": {},
   "outputs": [],
   "source": [
    "Colombia_long['FechaControl']=pd.to_datetime(Colombia_long['FechaControl'])\n",
    "Colombia_long['FechaCirugia']=pd.to_datetime(Colombia_long['FechaCirugia'])\n",
    "Colombia_long['dias']=Colombia_long['FechaControl']-Colombia_long['FechaCirugia']"
   ]
  },
  {
   "cell_type": "markdown",
   "metadata": {},
   "source": [
    "Se genera la variable 'NuevoControl' en la que se verifica que el control si está entre los días predeterminados para ese control especifico. si la fecha no cae entre los días predeterminados para algún control, se pone como 0, para luego eliminarlos"
   ]
  },
  {
   "cell_type": "code",
   "execution_count": 19,
   "metadata": {},
   "outputs": [],
   "source": [
    "conditions = [\n",
    "    (Colombia_long['dias'] == timedelta(days=0)),#C0\n",
    "    (Colombia_long['dias'] >= timedelta(days=20)) & (Colombia_long['dias'] <= timedelta(days=40)), #C1\n",
    "    (Colombia_long['dias'] >= timedelta(days=70)) & (Colombia_long['dias'] <= timedelta(days=110)), #C2\n",
    "    (Colombia_long['dias'] >= timedelta(days=150)) & (Colombia_long['dias'] <= timedelta(days=210)), #C3\n",
    "    (Colombia_long['dias'] >= timedelta(days=305)) & (Colombia_long['dias'] <= timedelta(days=425)), #C4\n",
    "    (Colombia_long['dias'] >= timedelta(days=540)) & (Colombia_long['dias'] <= timedelta(days=912)), #C5\n",
    "    (Colombia_long['dias'] >= timedelta(days=913)) & (Colombia_long['dias'] <= timedelta(days=1277))] #C6\n",
    "    #(Colombia_long['dias'] > timedelta(days=1277))] #C7, el control 7 son puros Nan\n",
    "choices = ['date_C0','date_C1','date_C2','date_C3','date_C4','date_C5','date_C6']#hace falta el 7, pero el control 7 son puros Nan\n",
    "Colombia_long['NuevoControl'] = np.select(conditions, choices,default=np.nan)\n",
    "Colombia_long=Colombia_long[Colombia_long['NuevoControl'].notna()==True]"
   ]
  },
  {
   "cell_type": "markdown",
   "metadata": {},
   "source": [
    "Se crea una base de datos auxiliar para saber cuales son las observaciones que cambiaron de control "
   ]
  },
  {
   "cell_type": "code",
   "execution_count": 20,
   "metadata": {},
   "outputs": [],
   "source": [
    "aux= Colombia_long.copy()\n",
    "aux['diferentes']=aux['NuevoControl']!=aux['Control']\n",
    "aux['diferentes'].sum()\n",
    "aux['DuplicadosControl']=aux.duplicated(subset=['id','NuevoControl'])"
   ]
  },
  {
   "cell_type": "markdown",
   "metadata": {},
   "source": [
    "Se crea la variable PromedioDiasControl, que son la cantidad de días a los cuales normalmente debería darse cada control. y luego, se crea la variable 'diff' que es la diferencia entre los días transcurridos entre la cirugía y el control, y los días que deberían haber transcurrido"
   ]
  },
  {
   "cell_type": "code",
   "execution_count": 21,
   "metadata": {},
   "outputs": [],
   "source": [
    "conditions=[Colombia_long['NuevoControl']=='date_C0',Colombia_long['NuevoControl']=='date_C1',\n",
    "Colombia_long['NuevoControl'] == 'date_C2',Colombia_long['NuevoControl'] == 'date_C3',\n",
    "Colombia_long['NuevoControl'] == 'date_C4',Colombia_long['NuevoControl'] == 'date_C5',\n",
    "Colombia_long['NuevoControl'] == 'date_C6'] #,Colombia_long['NuevoControl'] == 'date_C7'] el control 7 son puros Nan\n",
    "choices=[timedelta(days=0), timedelta(days=30), timedelta(days=90), timedelta(days=180), timedelta(days=365), timedelta(days=730), timedelta(days=1095)]\n",
    "Colombia_long['PromedioDiasControl'] = np.select(conditions, choices)\n",
    "Colombia_long['PromedioDiasControl']=Colombia_long['PromedioDiasControl'].astype('timedelta64[ns]')\n",
    "Colombia_long['diff']=abs(Colombia_long['PromedioDiasControl']-Colombia_long['dias'])"
   ]
  },
  {
   "cell_type": "markdown",
   "metadata": {},
   "source": [
    "Dado que hay varias observaciones con el mismo control pues pertenencen al mismo rango de fechas posibles del control, se deja la que está más cercana los días que deberían haber transcurrido"
   ]
  },
  {
   "cell_type": "code",
   "execution_count": 22,
   "metadata": {},
   "outputs": [],
   "source": [
    "Colombia_long=Colombia_long.loc[Colombia_long.groupby(['id','NuevoControl'])['diff'].idxmin()].reset_index(drop=True)"
   ]
  },
  {
   "cell_type": "markdown",
   "metadata": {},
   "source": [
    "Se hace un merge con la infromación general de toda la base de datos de colombia, tanto las otras variables de controles como las variables de información del paciente y la cirugía "
   ]
  },
  {
   "cell_type": "code",
   "execution_count": 23,
   "metadata": {},
   "outputs": [],
   "source": [
    "Colombia_long=Colombia_long.merge(right=Colombia,on='id',validate='m:1')"
   ]
  },
  {
   "cell_type": "markdown",
   "metadata": {},
   "source": [
    "Se crea una lista de las variables de los controles, y se añaden esas columnas a la base de datos, para generar una info condensada de cada control (del tipo long)"
   ]
  },
  {
   "cell_type": "code",
   "execution_count": 24,
   "metadata": {},
   "outputs": [],
   "source": [
    "varsControl=[\n",
    "'date','NoAsistio','Peso','IMC','IMCR','PPP','Ppeso','EWL', # no asistio y variables de peso\n",
    "'DT2','Hipert','Depre','AdS','Dislip','DoM','ERGE','MalN','comor','RdTV_Alto', 'RdTV_Medio', 'RdTV_Bajo', #comorbilidades\n",
    "'Fuga','ScT','ScR','Obstr','PaF','TrV','TrP','TnpUCI','ReH','NhC','Fist','Reint', #complicaciones\n",
    "'mDT2','moDT2','moDT2num','iDT2','mHipert','mDepre','mDislip','mDoM','mERGE','mHipo','mHiper','AdS_poli','AdS_CPAP', #medicamentos\n",
    "'PaF_fecha','TnpUCI_ingreso','TnpUCI_salida','ReH_ingreso','ReH_salida'#otras fechas\n",
    "]\n",
    "Colombia_long = Colombia_long.reindex(columns=Colombia_long.columns.tolist() + varsControl)"
   ]
  },
  {
   "cell_type": "markdown",
   "metadata": {},
   "source": [
    "Para cada control se llena la información en las nuevas variables de control, y se eliminan las variables viejas"
   ]
  },
  {
   "cell_type": "code",
   "execution_count": 25,
   "metadata": {},
   "outputs": [],
   "source": [
    "for i in range(8):\n",
    "    for v in varsControl:\n",
    "        for var in Colombia_long.columns.to_list():\n",
    "            if v+'_C'+str(i)==var:\n",
    "                Colombia_long.loc[(Colombia_long.Control=='date_C'+str(i)), v] = Colombia_long[var]\n",
    "                Colombia_long=Colombia_long.drop(columns=var)"
   ]
  },
  {
   "cell_type": "code",
   "execution_count": 26,
   "metadata": {},
   "outputs": [],
   "source": [
    "varsControl=['Peso','IMC','IMCR','PPP','Ppeso','EWL', # no asistio y variables de peso\n",
    "'DT2','Hipert','Depre','AdS','Dislip','DoM','ERGE','MalN','RdTV_Alto', 'RdTV_Medio', 'RdTV_Bajo', #comorbilidades\n",
    "'Fuga','ScT','ScR','Obstr','PaF','TrV','TrP','TnpUCI','ReH','NhC','Fist','Reint', #complicaciones\n",
    "'mDT2','moDT2','moDT2num','iDT2','mHipert','mDepre','mDislip','mDoM','mERGE','mHipo','mHiper','AdS_poli','AdS_CPAP', #medicamentos\n",
    "'PaF_fecha','TnpUCI_ingreso','TnpUCI_salida','ReH_ingreso','ReH_salida'#otras fechas\n",
    "]\n",
    "Colombia_long['SinInfo']=Colombia_long[varsControl].isna().sum(axis=1)==len(varsControl)"
   ]
  },
  {
   "cell_type": "code",
   "execution_count": 27,
   "metadata": {},
   "outputs": [],
   "source": [
    "Colombia_long=Colombia_long[Colombia_long['SinInfo']==False]\n",
    "Colombia_long=Colombia_long.drop(columns='SinInfo')"
   ]
  },
  {
   "cell_type": "code",
   "execution_count": 28,
   "metadata": {},
   "outputs": [],
   "source": [
    "Colombia_long=Colombia_long.drop(columns='Control')"
   ]
  }
 ],
 "metadata": {
  "kernelspec": {
   "display_name": "Python 3.10.0 64-bit",
   "language": "python",
   "name": "python3"
  },
  "language_info": {
   "codemirror_mode": {
    "name": "ipython",
    "version": 3
   },
   "file_extension": ".py",
   "mimetype": "text/x-python",
   "name": "python",
   "nbconvert_exporter": "python",
   "pygments_lexer": "ipython3",
   "version": "3.10.0"
  },
  "orig_nbformat": 4,
  "vscode": {
   "interpreter": {
    "hash": "aee8b7b246df8f9039afb4144a1f6fd8d2ca17a180786b69acc140d282b71a49"
   }
  }
 },
 "nbformat": 4,
 "nbformat_minor": 2
}
