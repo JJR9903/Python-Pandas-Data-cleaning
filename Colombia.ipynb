{
 "cells": [
  {
   "cell_type": "markdown",
   "metadata": {},
   "source": [
    "# Colombia J&J"
   ]
  },
  {
   "cell_type": "markdown",
   "metadata": {},
   "source": [
    "J&J Calidad de operativos <br>\n",
    "País: Colombia <br>\n",
    "Nombre: Colombia <br>\n",
    "Autor: Juan José Rincón<br>\n",
    "Fecha de creación: 16-06-2022<br>\n",
    "Fecha Modificación: 17-06-2022<br>"
   ]
  },
  {
   "cell_type": "code",
   "execution_count": 1,
   "metadata": {},
   "outputs": [],
   "source": [
    "#!pip install os numpy pandas\n",
    "#!pip install openpyxl\n",
    "import os\n",
    "import numpy as np\n",
    "import pandas as pd\n",
    "from datetime import datetime, date, timedelta\n",
    "from dateutil.relativedelta import relativedelta\n",
    "from sklearn import preprocessing"
   ]
  },
  {
   "cell_type": "markdown",
   "metadata": {},
   "source": [
    "Establece las variables generales y paths"
   ]
  },
  {
   "cell_type": "code",
   "execution_count": 2,
   "metadata": {},
   "outputs": [],
   "source": [
    "os.chdir(\"/Users/JuanJose/Library/CloudStorage/OneDrive-UniversidaddelosAndes/Econometria/J&J/100652_J_J/Colombia/Stata\")\n",
    "Path_Input_xlsx = \"DataFiles/Input/XLS/\"\n",
    "Path_working = \"DataFiles/Working/\"\n",
    "Path_out_xlsx = \"DataFiles/Output/XLS/\"\n",
    "#_date=datetime.datetime(2021, 12,1)\n",
    "_Date=datetime(2021,12,1)+relativedelta(months=1)-timedelta(days=1)\n",
    "#_Date=_Date.strftime(\"%d/%m/%Y\")\n",
    "_date=date.today()\n",
    "_date=_date.strftime(\"%d/%m/%Y\")"
   ]
  },
  {
   "cell_type": "markdown",
   "metadata": {},
   "source": [
    "#### Importación de datos\n",
    "Se importan los datos y se crea un diccionario con los labels de las variables"
   ]
  },
  {
   "cell_type": "code",
   "execution_count": 3,
   "metadata": {},
   "outputs": [],
   "source": [
    "_colombia=Path_Input_xlsx+'Col_dic21.xlsx'\n",
    "Colombia=pd.read_excel(_colombia,sheet_name='pacientes')\n",
    "#colombia_labels= {column: column for column in Colombia.columns}"
   ]
  },
  {
   "cell_type": "markdown",
   "metadata": {},
   "source": [
    "##### Filtrado de datos no validos\n",
    "Algunos que no tienen id, que fueron enviados por miembros de Econometria como pruebas, o que sucedieron antes de octubre de 2014"
   ]
  },
  {
   "cell_type": "code",
   "execution_count": 4,
   "metadata": {},
   "outputs": [],
   "source": [
    "Colombia['date_surgery']=pd.to_datetime(Colombia['date_surgery'])\n",
    "Colombia.drop(Colombia[Colombia['Grupo']=='Econometria'].index, inplace = True)\n",
    "Colombia.drop(Colombia[Colombia['id'].isnull()].index, inplace = True)\n",
    "Colombia.drop(Colombia[Colombia['id'].isna()].index, inplace = True)\n",
    "Colombia.drop(Colombia[Colombia['id']==0].index, inplace = True)\n",
    "Colombia.drop(Colombia[Colombia['date_surgery']< datetime(2014,10,1)].index, inplace = True)"
   ]
  },
  {
   "cell_type": "code",
   "execution_count": 5,
   "metadata": {},
   "outputs": [],
   "source": [
    "Variables=Colombia.columns.to_list()"
   ]
  },
  {
   "cell_type": "markdown",
   "metadata": {},
   "source": [
    "Se crea una variable de dias transcurridos desde la cirugía"
   ]
  },
  {
   "cell_type": "code",
   "execution_count": 6,
   "metadata": {},
   "outputs": [],
   "source": [
    "Colombia['Dias']=_Date-Colombia['date_surgery']"
   ]
  },
  {
   "cell_type": "markdown",
   "metadata": {},
   "source": [
    "Se reemplazan los valores para convertir en string"
   ]
  },
  {
   "cell_type": "code",
   "execution_count": 7,
   "metadata": {},
   "outputs": [],
   "source": [
    "Colombia=Colombia.replace([\"No\",\"si\",\"NS/NR\",\"Fem\",\"Masc\",'Sí'], [0,1,9,1,2,1])"
   ]
  },
  {
   "cell_type": "markdown",
   "metadata": {},
   "source": [
    "# Renombrar variables \n",
    "se renombran algunas variables"
   ]
  },
  {
   "cell_type": "code",
   "execution_count": 8,
   "metadata": {},
   "outputs": [],
   "source": [
    "vars={'identification':'documento', 'height':'Talla', 'weight':'PesoInicial', 'malnutrition':'Malnutricion', 'age_at_surgery':'EdadCiru','funding':'Financiacion', \n",
    "'gender':'Sexo', 'previous_surgery':'ProcePrev','technique_used':'TecnicaU', 'date_surgery':'FechaCirugia',\n",
    "'surgery_type':'TipoCB', 'bypass_used':'Tbypass','other_procedures':'OtrosProce','other_procedures_other':'OtroProceCual','type_identification':'tipodoc',\n",
    "'colombian_resident':'ResideCol', 'adjustable_gastric_band':'BandaGaA', 'no_adjustable_gastric_band':'BandaGaNA', 'bypass_roux':'BypassYR',\n",
    "'bypass_mini':'MiniGaBypass', 'sleeve_gastrectomy':'GaManga', 'duodenal_crossing':'CruceDuodenal', 'sadi':'SADIS', 'scopinaro':'DeBilioScopi', \n",
    "'gastric_plicature':'PliGa', 'gastroplasty':'GaVcB', 'previous_surgery_other':'Otra', 'previous_surgery_other_which':'Cual', 'gastric_ballon':'BalGas',\n",
    "'hospital_departure':'fecha_salidaH', 'other_procedures_legacy':'OtrosProcelegacy', 'conversion_cause_legacy':'CausaConverLegacy', 'weight_gain':'GananciaPeso',\n",
    "'reflux':'Reflujo', 'hypoglycemia':'Hipoglicemia', 'type_conversion_surgery':'TipoCirugiaConver', 'cholecystectomy':'Colecistec',\n",
    "'hiatus_correction':'CorrecHiato','liver_biopsy':'BiopsiaHep','no_other_procedures':'NsrO'} \n",
    "Colombia.rename(columns=vars,inplace=True)"
   ]
  },
  {
   "cell_type": "markdown",
   "metadata": {},
   "source": [
    "## Creación y organización de variables"
   ]
  },
  {
   "cell_type": "markdown",
   "metadata": {},
   "source": [
    "Se crea la función Reorder columns, para reordenar las columnas según la posición deseada (detrás de cierta variable indicada)"
   ]
  },
  {
   "cell_type": "code",
   "execution_count": 9,
   "metadata": {},
   "outputs": [],
   "source": [
    "#funcion para ordenar variables\n",
    "def reorder_columns(dataframe, col_names, position):\n",
    "    \"\"\"Reorder a dataframe's column.\n",
    "    Args:\n",
    "        dataframe (pd.DataFrame): dataframe to use\n",
    "        col_name (string list): columns names to move\n",
    "        position (0-indexed position): where to relocate column to\n",
    "    Returns:\n",
    "        pd.DataFrame: re-assigned dataframe\n",
    "    \"\"\"\n",
    "    Col_names=list()\n",
    "    Col_names.extend(col_names)\n",
    "    col_names=[]\n",
    "    col_names.extend(Col_names)\n",
    "    n=len(col_names)\n",
    "    \n",
    "    for i in range(n-1,-1,-1):\n",
    "        col_name = col_names[i]\n",
    "        temp_col = dataframe[col_name]\n",
    "        dataframe = dataframe.drop(columns=[col_name])\n",
    "        dataframe.insert(loc=position, column=col_name, value=temp_col)\n",
    "\n",
    "    return dataframe"
   ]
  },
  {
   "cell_type": "code",
   "execution_count": 10,
   "metadata": {},
   "outputs": [],
   "source": [
    "#tipo doc\n",
    "Colombia[\"tipodoc\"] = Colombia[\"tipodoc\"].astype('category')\n",
    "#Para encontrar la codificacion numerica de la variable categorica se usa .cat.codes -> Colombia[\"tipodoc\"] = Colombia[\"tipodoc\"].cat.codes "
   ]
  },
  {
   "cell_type": "code",
   "execution_count": 14,
   "metadata": {},
   "outputs": [
    {
     "data": {
      "text/html": [
       "<div>\n",
       "<style scoped>\n",
       "    .dataframe tbody tr th:only-of-type {\n",
       "        vertical-align: middle;\n",
       "    }\n",
       "\n",
       "    .dataframe tbody tr th {\n",
       "        vertical-align: top;\n",
       "    }\n",
       "\n",
       "    .dataframe thead th {\n",
       "        text-align: right;\n",
       "    }\n",
       "</style>\n",
       "<table border=\"1\" class=\"dataframe\">\n",
       "  <thead>\n",
       "    <tr style=\"text-align: right;\">\n",
       "      <th></th>\n",
       "      <th>Sexo_1</th>\n",
       "      <th>Sexo_2</th>\n",
       "    </tr>\n",
       "  </thead>\n",
       "  <tbody>\n",
       "    <tr>\n",
       "      <th>0</th>\n",
       "      <td>1</td>\n",
       "      <td>0</td>\n",
       "    </tr>\n",
       "    <tr>\n",
       "      <th>1</th>\n",
       "      <td>0</td>\n",
       "      <td>1</td>\n",
       "    </tr>\n",
       "    <tr>\n",
       "      <th>2</th>\n",
       "      <td>1</td>\n",
       "      <td>0</td>\n",
       "    </tr>\n",
       "    <tr>\n",
       "      <th>3</th>\n",
       "      <td>1</td>\n",
       "      <td>0</td>\n",
       "    </tr>\n",
       "    <tr>\n",
       "      <th>4</th>\n",
       "      <td>1</td>\n",
       "      <td>0</td>\n",
       "    </tr>\n",
       "    <tr>\n",
       "      <th>...</th>\n",
       "      <td>...</td>\n",
       "      <td>...</td>\n",
       "    </tr>\n",
       "    <tr>\n",
       "      <th>10326</th>\n",
       "      <td>0</td>\n",
       "      <td>1</td>\n",
       "    </tr>\n",
       "    <tr>\n",
       "      <th>10327</th>\n",
       "      <td>1</td>\n",
       "      <td>0</td>\n",
       "    </tr>\n",
       "    <tr>\n",
       "      <th>10328</th>\n",
       "      <td>1</td>\n",
       "      <td>0</td>\n",
       "    </tr>\n",
       "    <tr>\n",
       "      <th>10329</th>\n",
       "      <td>1</td>\n",
       "      <td>0</td>\n",
       "    </tr>\n",
       "    <tr>\n",
       "      <th>10330</th>\n",
       "      <td>1</td>\n",
       "      <td>0</td>\n",
       "    </tr>\n",
       "  </tbody>\n",
       "</table>\n",
       "<p>10296 rows × 2 columns</p>\n",
       "</div>"
      ],
      "text/plain": [
       "       Sexo_1  Sexo_2\n",
       "0           1       0\n",
       "1           0       1\n",
       "2           1       0\n",
       "3           1       0\n",
       "4           1       0\n",
       "...       ...     ...\n",
       "10326       0       1\n",
       "10327       1       0\n",
       "10328       1       0\n",
       "10329       1       0\n",
       "10330       1       0\n",
       "\n",
       "[10296 rows x 2 columns]"
      ]
     },
     "execution_count": 14,
     "metadata": {},
     "output_type": "execute_result"
    }
   ],
   "source": [
    "Colombia[\"Sexo\"] = Colombia[\"Sexo\"].astype('category')\n",
    "position=Colombia.columns.to_list().index('Sexo')+1\n",
    "pd.get_dummies(Colombia['Sexo'],prefix='Sexo',columns=['Mujer','Hombre'])"
   ]
  },
  {
   "cell_type": "markdown",
   "metadata": {},
   "source": [
    "#### Sexo\n",
    "Se crean variables para cada uno de los sexos "
   ]
  },
  {
   "cell_type": "code",
   "execution_count": null,
   "metadata": {},
   "outputs": [],
   "source": [
    "position=Colombia.columns.to_list().index('Sexo')+1\n",
    "Colombia.insert(position,'Sexo_Hombre',np.where(Colombia['Sexo'] == 2, 1, 0))\n",
    "Colombia.insert(position,'Sexo_Mujer',np.where(Colombia['Sexo'] == 1, 1, 0))"
   ]
  },
  {
   "cell_type": "markdown",
   "metadata": {},
   "source": [
    "#### Edad\n",
    "Se crean variables de edad por rangos y edad por sexo "
   ]
  },
  {
   "cell_type": "code",
   "execution_count": null,
   "metadata": {},
   "outputs": [],
   "source": [
    "#rangos de edad\n",
    "bins = [0,15, 25, 35, 45, 55, 120]\n",
    "labels = ['-15','15-25', '25-35', '35-45', '45-55','55+']\n",
    "Colombia['RangoEdad'] = pd.cut(Colombia['EdadCiru'], bins, labels = labels,include_lowest = True) # al poner labels la variable queda tipo str\n",
    "position=Colombia.columns.to_list().index('EdadCiru')+1\n",
    "Colombia=reorder_columns(Colombia,['RangoEdad'], position)\n",
    "del bins, labels"
   ]
  },
  {
   "cell_type": "code",
   "execution_count": null,
   "metadata": {},
   "outputs": [],
   "source": [
    "# edad por sexo\n",
    "Colombia['EdM']=Colombia['EdadCiru']*Colombia['Sexo_Mujer']\n",
    "Colombia['EdH']=Colombia['EdadCiru']*Colombia['Sexo_Hombre']\n",
    "position=Colombia.columns.to_list().index('RangoEdad')+1\n",
    "Colombia=reorder_columns(Colombia, ['EdM','EdH'], position)"
   ]
  },
  {
   "cell_type": "markdown",
   "metadata": {},
   "source": [
    "#### Peso\n",
    "Se crean variable PesoIdeal y ExcesoPeso"
   ]
  },
  {
   "cell_type": "code",
   "execution_count": null,
   "metadata": {},
   "outputs": [],
   "source": [
    "Colombia['PesoIdeal']=25*((Colombia.Talla/100)**2)\n",
    "Colombia['ExcesoPeso']=Colombia.PesoInicial-Colombia['PesoIdeal']\n",
    "position=Colombia.columns.to_list().index('Talla')+1\n",
    "Colombia=reorder_columns(Colombia, ['PesoIdeal','ExcesoPeso'], position)"
   ]
  },
  {
   "cell_type": "markdown",
   "metadata": {},
   "source": [
    "### Trombosis\n",
    "se crean dummies por riesgo de trombosis"
   ]
  },
  {
   "cell_type": "code",
   "execution_count": null,
   "metadata": {},
   "outputs": [],
   "source": [
    "#riesgo de trombosis en el control 0 (cirugia)\n",
    "Colombia=Colombia.join(pd.get_dummies(Colombia['risk_thrombosis'],prefix=\"RdTV\"))\n",
    "position=Colombia.columns.to_list().index('risk_thrombosis')+1\n",
    "Colombia=reorder_columns(Colombia, ['RdTV_Alto','RdTV_Medio','RdTV_Bajo'], position)\n",
    "Colombia.rename(columns={'RdTV_Alto':'RdTV_Alto_C0','RdTV_Medio':'RdTV_Medio_C0','RdTV_Bajo':'RdTV_Bajo_C0'},inplace=True)\n",
    "Colombia=Colombia.drop('risk_thrombosis',axis=1)"
   ]
  },
  {
   "cell_type": "code",
   "execution_count": null,
   "metadata": {},
   "outputs": [],
   "source": [
    "#riesgo de trombosis en el 1 control\n",
    "Colombia=Colombia.replace({'risk_thrombosis.1': 9}, np.nan)\n",
    "Colombia=Colombia.join(pd.get_dummies(Colombia['risk_thrombosis.1'],prefix=\"RdTV\"))\n",
    "position=Colombia.columns.to_list().index('risk_thrombosis.1')+1\n",
    "Colombia=reorder_columns(Colombia, ['RdTV_Alto','RdTV_Medio','RdTV_Bajo'], position)\n",
    "Colombia.rename(columns={'RdTV_Alto':'RdTV_Alto_C1','RdTV_Medio':'RdTV_Medio_C1','RdTV_Bajo':'RdTV_Bajo_C1'},inplace=True)\n",
    "Colombia=Colombia.drop('risk_thrombosis.1',axis=1)"
   ]
  },
  {
   "cell_type": "markdown",
   "metadata": {},
   "source": [
    "## Creación de variables de los controles"
   ]
  },
  {
   "cell_type": "markdown",
   "metadata": {},
   "source": [
    "Se renombran las variables utilizadas en los controles para que todas queden en el mismo formato,y se crea la lista de comorbilidades <br>\n",
    "Formato: 'variable'_C#"
   ]
  },
  {
   "cell_type": "markdown",
   "metadata": {},
   "source": [
    "Se crea la función rename_control, que renombra las variables de los controles con el formato dispuesto. <br>\n",
    "<font size=\"1\"> La función coge un diccionario que tiene el nombre de la variable actual y el nuevo nombre. recorre todas las variables de los controles que tengan ese nombre y las renombra con el nuevo nombre y el formato dispuesto. <br> si hay una variable que no está en un control se la pone en la condicion, con la lista de los controles en los que no aparece.<font>"
   ]
  },
  {
   "cell_type": "code",
   "execution_count": null,
   "metadata": {},
   "outputs": [],
   "source": [
    "def rename_control(dataFrame,new_var_names,condition={}):\n",
    "    \"\"\"rename the control variables of the dataframe.\n",
    "    Args:\n",
    "        dataframe (pd.DataFrame): dataframe to use\n",
    "        new_var_names (dict): \n",
    "            keys() = variable names in dataframe to rename\n",
    "            values()= new names of the variables\n",
    "        condition (dict): \n",
    "            keys()= variable names that are included in the condition, for not being in an specific control \n",
    "            values()= number of the control to be omitted\n",
    "    Returns:\n",
    "        pd.DataFrame: re-assigned dataframe\n",
    "    \"\"\"\n",
    "\n",
    "    var_names=list(new_var_names.keys()) #create a list of old variable names\n",
    "\n",
    "    if len(condition)>=1: # if ther is a variable in condition, remove that variable from var_names list, for renaming in other condition\n",
    "        for c in condition.keys():\n",
    "            var_names.remove(c)\n",
    "\n",
    "    vars_rename={}\n",
    "\n",
    "    for v in var_names: #for each var in var_names rename it\n",
    "        i=0\n",
    "        for var in dataFrame.columns:\n",
    "            if v==var or v+'.' in var:\n",
    "                vars_rename[var]=new_var_names[v]+'_C'+str(i)\n",
    "                i=i+1\n",
    "\n",
    "    if len(condition)>=1:\n",
    "\n",
    "        for c,ctr in condition.items():\n",
    "            i=0\n",
    "            for var in Colombia.columns:\n",
    "                if c==var or c+'.' in var:\n",
    "                    if i in ctr:\n",
    "                        i=i+1\n",
    "                    vars_rename[var]=new_var_names[c]+'_C'+str(i)\n",
    "                    i=i+1\n",
    "    \n",
    "    dataFrame.rename(columns=vars_rename,inplace=True)\n",
    "    return dataFrame"
   ]
  },
  {
   "cell_type": "markdown",
   "metadata": {},
   "source": [
    "Se renombra la variable si asistió o no al control"
   ]
  },
  {
   "cell_type": "code",
   "execution_count": null,
   "metadata": {},
   "outputs": [],
   "source": [
    "Colombia=rename_control(dataFrame=Colombia,new_var_names={'no_control':'NoAsistio'},condition={'no_control':[0]})"
   ]
  },
  {
   "cell_type": "markdown",
   "metadata": {},
   "source": [
    "### Comorbilidades\n",
    "Se renombran las variables de los controles"
   ]
  },
  {
   "cell_type": "code",
   "execution_count": null,
   "metadata": {},
   "outputs": [],
   "source": [
    "vars_control={'date_control':'date','weight':'Peso','diabetes_type2':'DT2','hypertension':'Hipert','depression':'Depre','sleep_apnea':'AdS','dyslipidemia':'Dislip','muscle_bone_pain':'DoM','erge':'ERGE','malnutrition':'MalN'}\n",
    "Colombia=rename_control(Colombia,vars_control,condition={'date_control':[0]})\n",
    "del vars_control\n",
    "Colombia['date_C0']=Colombia['FechaCirugia']\n",
    "position=Colombia.columns.to_list().index('DT2_C0')-1\n",
    "Colombia=reorder_columns(Colombia, ['date_C0','Peso_C0'], position)\n",
    "Colombia['PesoCiru']=Colombia['Peso_C0']\n",
    "position=Colombia.columns.to_list().index('FechaCirugia')+1\n",
    "Colombia=reorder_columns(Colombia, ['PesoCiru'], position)"
   ]
  },
  {
   "cell_type": "markdown",
   "metadata": {},
   "source": [
    "Para cada control crear una variable de IMC"
   ]
  },
  {
   "cell_type": "code",
   "execution_count": null,
   "metadata": {},
   "outputs": [],
   "source": [
    "for i in range(8):\n",
    "    Colombia['IMC_C'+str(i)]=np.nan\n",
    "    for j in range(len(Colombia)):\n",
    "        Colombia.iloc[j,Colombia.columns.get_loc('IMC_C'+str(i))]=Colombia.iloc[j,Colombia.columns.get_loc('IMC_C'+str(i))]/((Colombia.iloc[18,Colombia.columns.get_loc('Talla')]/100)**2)       "
   ]
  },
  {
   "cell_type": "markdown",
   "metadata": {},
   "source": [
    "Para cada control crear una variable de IMC por rango"
   ]
  },
  {
   "cell_type": "code",
   "execution_count": null,
   "metadata": {},
   "outputs": [],
   "source": [
    "bins = [0, 30, 35, 40, 45, 50, 150]\n",
    "labels = ['<29,9','30-34,9', '35-39,9', '40-44,9', '45-49,9','>50']\n",
    "for i in range(8):\n",
    "    Colombia['IMCR_C'+str(i)] = pd.cut(Colombia['IMC_C'+str(i)], bins, labels = labels,include_lowest = True)\n",
    "del bins, labels"
   ]
  },
  {
   "cell_type": "code",
   "execution_count": null,
   "metadata": {},
   "outputs": [],
   "source": [
    "for i in range(8):\n",
    "        position=Colombia.columns.to_list().index('Peso_C'+str(i))+1\n",
    "        Colombia=reorder_columns(Colombia, ['IMC_C'+str(i),'IMCR_C'+str(i)], position)"
   ]
  },
  {
   "cell_type": "markdown",
   "metadata": {},
   "source": [
    "Para cada control se hace la suma de comorbilidades que tiene el paciente"
   ]
  },
  {
   "cell_type": "markdown",
   "metadata": {},
   "source": [
    "Se crea una lista de comorbilidades <br>"
   ]
  },
  {
   "cell_type": "code",
   "execution_count": null,
   "metadata": {},
   "outputs": [],
   "source": [
    "comorbilidades=['DT2','Hipert','Depre','AdS','Dislip','DoM','ERGE','MalN']"
   ]
  },
  {
   "cell_type": "code",
   "execution_count": null,
   "metadata": {},
   "outputs": [],
   "source": [
    "#añadir riesgo trombosis para c0 y c1\n",
    "for i in range(8):\n",
    "    ComorbControl=[comorb+'_C'+str(i) for comorb in comorbilidades] \n",
    "    if 0<=i<1:\n",
    "        RT=['RdTV_Alto_C0','RdTV_Medio_C0','RdTV_Bajo_C0','RdTV_Alto_C1','RdTV_Medio_C1','RdTV_Bajo_C1']\n",
    "        ComorbControl.extend(RT)\n",
    "    Colombia['comor_C'+str(i)]=Colombia[ComorbControl].sum(axis=1,skipna=True)\n",
    "    position=Colombia.columns.to_list().index('IMCR_C'+str(i))+1\n",
    "    Colombia=reorder_columns(Colombia, ['comor_C'+str(i)], position)\n",
    "del ComorbControl, RT"
   ]
  },
  {
   "cell_type": "markdown",
   "metadata": {},
   "source": [
    "Se crea la diferencia de días entre los controles"
   ]
  },
  {
   "cell_type": "code",
   "execution_count": null,
   "metadata": {},
   "outputs": [],
   "source": [
    "for i in range(8):\n",
    "    Colombia['date_C'+str(i)]=Colombia['date_C'+str(i)].astype('datetime64[ns]')\n",
    "    if i!=0:\n",
    "        Colombia['dias_C'+str(i)]=_Date-Colombia['date_C'+str(i)]\n",
    "        position=Colombia.columns.to_list().index('date_C'+str(i))+1\n",
    "        Colombia=reorder_columns(Colombia, ['dias_C'+str(i)], position)"
   ]
  },
  {
   "cell_type": "markdown",
   "metadata": {},
   "source": [
    "Se crean las variables de perdida de peso entre controles y la cirugía: niveles, porcentage y EWL"
   ]
  },
  {
   "cell_type": "code",
   "execution_count": null,
   "metadata": {},
   "outputs": [],
   "source": [
    "for i in range(8):\n",
    "    if i!=0:\n",
    "        Colombia['Ppeso_C'+str(i)]=Colombia['Peso_C0']- Colombia['Peso_C'+str(i)]\n",
    "        Colombia['EWL_C'+str(i)]=(Colombia['Ppeso_C'+str(i)]/Colombia['ExcesoPeso']*100)\n",
    "        Colombia['PPP_C'+str(i)]=((Colombia['Ppeso_C'+str(i)]/Colombia['Peso_C0'])-1)*100\n",
    "        position=Colombia.columns.to_list().index('Peso_C'+str(i))+1\n",
    "        Colombia=reorder_columns(Colombia, ['Ppeso_C'+str(i),'EWL_C'+str(i),'PPP_C'+str(i)], position)"
   ]
  },
  {
   "cell_type": "markdown",
   "metadata": {},
   "source": [
    "### Complicaciones\n",
    "Se renombran las variables de las posibles complicaciones"
   ]
  },
  {
   "cell_type": "code",
   "execution_count": null,
   "metadata": {},
   "outputs": [],
   "source": [
    "complicaciones={'leak':'Fuga','bleeding_transfusion':'ScT','bleeding_reintervention':'ScR','obstruction':'Obstr','deceased':'PaF','thrombosis':'TrV','thromboembolism':'TrP','uci':'TnpUCI','readm':'ReH','no_complications':'NhC','fistula':'Fist','reintervention':'Reint'}\n",
    "condiciones={'leak':[0],'bleeding_transfusion':[0],'bleeding_reintervention':[0],'obstruction':[0],'deceased':[0],'thrombosis':[0,3],'thromboembolism':[0,3],'uci':[0],'readm':[0],'no_complications':[0],'fistula':[0,1],'reintervention':[0,1]}\n",
    "Colombia=rename_control(Colombia,complicaciones,condition=condiciones)"
   ]
  },
  {
   "cell_type": "code",
   "execution_count": null,
   "metadata": {},
   "outputs": [],
   "source": [
    "Variables=Colombia.columns.to_list()"
   ]
  },
  {
   "cell_type": "markdown",
   "metadata": {},
   "source": [
    "### Medicamentos\n",
    "Se renombran las variables de los medicamentos"
   ]
  },
  {
   "cell_type": "code",
   "execution_count": null,
   "metadata": {},
   "outputs": [],
   "source": [
    "medicamentos={'diabetes_medication':'mDT2', 'diabetes_oral':'moDT2', 'diabetes_oral_num':'moDT2num', 'diabetes_insulin':'iDT2','hypertension_medication':'mHipert', 'depression_medication':'mDepre', 'dyslipidemia_medication':'mDislip', 'muscle_bone_pain_medication':'mDoM', 'erge_medication':'mERGE','hypoglycemic_medication':'mHipo','hypertension_medication_num':'mHiper','sleep_apnea_polysomnographic':'AdS_poli','cpap_machine':'AdS_CPAP'}\n",
    "Colombia=rename_control(Colombia,medicamentos)\n",
    "del medicamentos"
   ]
  },
  {
   "cell_type": "markdown",
   "metadata": {},
   "source": [
    "### Fecha Fallecimieinto\n",
    "Se renombra la fecha de fallecminento (hay 1 por control) y se vuelve tipo fecha"
   ]
  },
  {
   "cell_type": "code",
   "execution_count": null,
   "metadata": {},
   "outputs": [],
   "source": [
    "Colombia=rename_control(Colombia,new_var_names={'date_decease':'PaF_fecha'},condition={'date_decease':[0]})\n",
    "for var in Colombia.columns:\n",
    "    if 'PaF_fecha' in var:\n",
    "        Colombia[var]=Colombia[var].astype('datetime64[ns]')"
   ]
  },
  {
   "cell_type": "markdown",
   "metadata": {},
   "source": [
    "### Fechas\n",
    "Se renombran y vuelven tipo fecha, las fechas de ingreso y salida a UCI o al Hospital"
   ]
  },
  {
   "cell_type": "code",
   "execution_count": null,
   "metadata": {},
   "outputs": [],
   "source": [
    "otherDates={'date_uci_adm':'TnpUCI_ingreso','date_uci_exit':'TnpUCI_salida','date_readm_adm':'ReH_ingreso','date_readm_exit':'ReH_salida'}\n",
    "condiciones={'date_uci_adm':[0],'date_uci_exit':[0],'date_readm_adm':[0],'date_readm_exit':[0]}\n",
    "Colombia=rename_control(Colombia,otherDates,condiciones)\n",
    "for d in otherDates.values():\n",
    "    for var in Colombia.columns:\n",
    "        if d in var:\n",
    "            Colombia[var]=Colombia[var].astype('datetime64[ns]')\n",
    "del otherDates"
   ]
  },
  {
   "cell_type": "markdown",
   "metadata": {},
   "source": [
    "### Numero de controles a los que asistio la persona"
   ]
  },
  {
   "cell_type": "code",
   "execution_count": null,
   "metadata": {},
   "outputs": [],
   "source": [
    "Colombia['controles']=Colombia[['date_C1', 'date_C2', 'date_C3', 'date_C4', 'date_C5', 'date_C6','date_C7']].notna().sum(axis=1,skipna=True)\n",
    "Colombia['controles'].mask(Colombia['Dias'] < timedelta(days=41), 99, inplace=True)"
   ]
  },
  {
   "cell_type": "markdown",
   "metadata": {},
   "source": [
    "## Recodificar algunas variables del procedimiento\n",
    "Se eliminan las variables 'OtrosProcelegacy' y 'CausaConverLegacy'"
   ]
  },
  {
   "cell_type": "code",
   "execution_count": null,
   "metadata": {},
   "outputs": [],
   "source": [
    "Colombia['BiopsiaHep'].mask(Colombia['OtrosProcelegacy'] == 'Biopsia hepática', 1, inplace=True)\n",
    "Colombia['Colecistec'].mask(Colombia['OtrosProcelegacy'] == 'Colecistectomía', 1, inplace=True)\n",
    "Colombia['CorrecHiato'].mask(Colombia['OtrosProcelegacy'] == 'Corrección de Hiato', 1, inplace=True)\n",
    "Colombia['NsrO'].mask(Colombia['OtrosProcelegacy'] == 'No se realizó otro procedimiento', 1, inplace=True)\n",
    "Colombia['OtrosProce'].mask(Colombia['OtrosProcelegacy'] == 'Otra', 1, inplace=True)\n",
    "\n",
    "Colombia['Colecistec'].mask(Colombia['CausaConverLegacy'] == 'Reganancia de peso', 1, inplace=True)\n",
    "Colombia['Malnutricion'].mask(Colombia['CausaConverLegacy'] == 'Desnutrición', 1, inplace=True)\n",
    "Colombia['Reflujo'].mask(Colombia['CausaConverLegacy'] == 'Reflujo - Hernia', 1, inplace=True)\n",
    "Colombia['Hipoglicemia'].mask(Colombia['CausaConverLegacy'] == 'Hipoglicemia', 1, inplace=True)\n",
    "\n",
    "Colombia=Colombia.drop(labels=['OtrosProcelegacy','CausaConverLegacy'],axis=1)"
   ]
  },
  {
   "cell_type": "markdown",
   "metadata": {},
   "source": [
    "Se crea una variable llamada IMC Bajo"
   ]
  },
  {
   "cell_type": "code",
   "execution_count": null,
   "metadata": {},
   "outputs": [],
   "source": [
    "Colombia['IMC_bajo']=np.where(Colombia['IMC_C0'] < 40, 1, 2) #& Colombia['IMC_C0']!=np.nan"
   ]
  },
  {
   "cell_type": "markdown",
   "metadata": {},
   "source": [
    "Se elminan algunas observaciones que no deberían estar en el análisis"
   ]
  },
  {
   "cell_type": "code",
   "execution_count": null,
   "metadata": {},
   "outputs": [],
   "source": [
    "#Elimino observaciones que tengan menos de 15 años y algunas fechas:\n",
    "Colombia.drop(Colombia[Colombia['EdadCiru'] < 15].index, inplace = True)\n",
    "Colombia.drop(Colombia[Colombia['FechaCirugia']>_Date].index, inplace = True)\n",
    "\n",
    "for m in [1,5,6,8,9]:\n",
    "    for d in range(1,32):\n",
    "        if m==6 or m==9:\n",
    "            if d==31:\n",
    "                continue\n",
    "        Colombia.drop(Colombia[Colombia['FechaCirugia']==date(2014,month=m,day=d)].index, inplace = True)"
   ]
  },
  {
   "cell_type": "markdown",
   "metadata": {},
   "source": [
    "# Exportar Base de Datos\n",
    "Exportar la base de datos de colombia para la su uso en otros scripts"
   ]
  },
  {
   "cell_type": "code",
   "execution_count": null,
   "metadata": {},
   "outputs": [],
   "source": [
    "Colombia.to_csv(Path_working+'Colombia_preliminar.csv') "
   ]
  },
  {
   "cell_type": "markdown",
   "metadata": {},
   "source": [
    "## Tablas de verificación\n",
    "Exportar las tablas de verificación a excel "
   ]
  },
  {
   "cell_type": "code",
   "execution_count": null,
   "metadata": {},
   "outputs": [],
   "source": [
    "TablaVerificacion=pd.crosstab(Colombia['Grupo'], [pd.DatetimeIndex(Colombia['FechaCirugia']).year,pd.DatetimeIndex(Colombia['FechaCirugia']).month],colnames=['Año','Mes'],margins=True)\n",
    "TablaVerificacion_xlsx_path=Path_out_xlsx+'TablaVerificacion'+_Date.strftime(\"%mm%Y\")+'.xlsx'\n",
    "TablaVerificacion.to_excel(TablaVerificacion_xlsx_path)"
   ]
  },
  {
   "cell_type": "code",
   "execution_count": null,
   "metadata": {},
   "outputs": [],
   "source": [
    "TablaControles=pd.DataFrame(data=(Colombia.groupby('Grupo')['controles'].mean(),Colombia.groupby('Grupo')['controles'].count()),columns=list(Colombia['Grupo'].unique()),index=['Media','Recuento']).T\n",
    "TC_total=pd.DataFrame(TablaControles.sum(),columns=['Total']).T\n",
    "pd.concat([TablaControles,TC_total])\n",
    "TablaControles_xlsx_path=Path_out_xlsx+'TablaControles'+_Date.strftime(\"%mm%Y\")+'.xlsx'\n",
    "TablaControles.to_excel(TablaControles_xlsx_path)"
   ]
  }
 ],
 "metadata": {
  "kernelspec": {
   "display_name": "Python 3.10.0 64-bit",
   "language": "python",
   "name": "python3"
  },
  "language_info": {
   "codemirror_mode": {
    "name": "ipython",
    "version": 3
   },
   "file_extension": ".py",
   "mimetype": "text/x-python",
   "name": "python",
   "nbconvert_exporter": "python",
   "pygments_lexer": "ipython3",
   "version": "3.10.0"
  },
  "orig_nbformat": 4,
  "vscode": {
   "interpreter": {
    "hash": "aee8b7b246df8f9039afb4144a1f6fd8d2ca17a180786b69acc140d282b71a49"
   }
  }
 },
 "nbformat": 4,
 "nbformat_minor": 2
}
